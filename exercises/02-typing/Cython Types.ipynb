{
 "cells": [
  {
   "cell_type": "code",
   "execution_count": 3,
   "id": "ac5b4735",
   "metadata": {},
   "outputs": [],
   "source": [
    "%load_ext cython"
   ]
  },
  {
   "cell_type": "markdown",
   "id": "d9b9afec",
   "metadata": {},
   "source": [
    "### def vs cdef vs cpdef"
   ]
  },
  {
   "cell_type": "code",
   "execution_count": 4,
   "id": "0e0a4b30",
   "metadata": {},
   "outputs": [],
   "source": [
    "%%cython \n",
    "\n",
    "def inc(int num, int offset):\n",
    "    return num + offset\n",
    "\n",
    "def inc_seq(seq, offset):\n",
    "    result = []\n",
    "    for val in seq:\n",
    "        res = inc(val, offset)\n",
    "        result.append(res)\n",
    "    return result"
   ]
  },
  {
   "cell_type": "code",
   "execution_count": 12,
   "id": "65b82a0e",
   "metadata": {},
   "outputs": [
    {
     "name": "stdout",
     "output_type": "stream",
     "text": [
      "291 ns ± 0.907 ns per loop (mean ± std. dev. of 7 runs, 1,000,000 loops each)\n"
     ]
    }
   ],
   "source": [
    "%%timeit\n",
    "a = range(4)\n",
    "inc_seq(a, 3)"
   ]
  },
  {
   "cell_type": "code",
   "execution_count": 13,
   "id": "e4c4dcc5",
   "metadata": {},
   "outputs": [],
   "source": [
    "%%cython \n",
    "\n",
    "cdef int fast_inc(int num, int offset):\n",
    "    return num + offset\n",
    "\n",
    "def fast_inc_seq(seq, offset):\n",
    "    result = []\n",
    "    for val in seq:\n",
    "        res = fast_inc(val, offset)\n",
    "        result.append(res)\n",
    "    return result"
   ]
  },
  {
   "cell_type": "code",
   "execution_count": 14,
   "id": "74507159",
   "metadata": {},
   "outputs": [
    {
     "name": "stdout",
     "output_type": "stream",
     "text": [
      "189 ns ± 1.1 ns per loop (mean ± std. dev. of 7 runs, 1,000,000 loops each)\n"
     ]
    }
   ],
   "source": [
    "%%timeit\n",
    "a = range(4)\n",
    "fast_inc_seq(a, 3)"
   ]
  },
  {
   "cell_type": "code",
   "execution_count": 15,
   "id": "04add933",
   "metadata": {},
   "outputs": [],
   "source": [
    "%%cython\n",
    "\n",
    "cpdef fast_inc(int num, int offset):\n",
    "    return num + offset\n",
    "\n",
    "def inc_seq(seq, offset):\n",
    "    result = []\n",
    "    for val in seq:\n",
    "        res = fast_inc(val, offset)\n",
    "        result.append(res)\n",
    "    return result"
   ]
  },
  {
   "cell_type": "code",
   "execution_count": 17,
   "id": "1a086fff",
   "metadata": {},
   "outputs": [
    {
     "name": "stdout",
     "output_type": "stream",
     "text": [
      "196 ns ± 0.654 ns per loop (mean ± std. dev. of 7 runs, 1,000,000 loops each)\n"
     ]
    }
   ],
   "source": [
    "%%timeit\n",
    "a = range(4)\n",
    "inc_seq(a, 3)"
   ]
  },
  {
   "cell_type": "code",
   "execution_count": 19,
   "id": "86e9ced5",
   "metadata": {},
   "outputs": [
    {
     "data": {
      "text/plain": [
       "4"
      ]
     },
     "execution_count": 19,
     "metadata": {},
     "output_type": "execute_result"
    }
   ],
   "source": [
    "fast_inc(1, 3)  # With cpdef, we can access `fast_inc` from Python."
   ]
  },
  {
   "cell_type": "markdown",
   "id": "8d08a4c8",
   "metadata": {},
   "source": [
    "# Hamming Distance"
   ]
  },
  {
   "cell_type": "code",
   "execution_count": 21,
   "id": "393e0ad0",
   "metadata": {},
   "outputs": [],
   "source": [
    "def hamming_sum(s0, s1):\n",
    "    if len(s0) != len(s1):\n",
    "        raise ValueError()\n",
    "    return sum(c0 != c1 for (c0, c1) in zip(s0, s1))\n",
    "\n",
    "def hamming_loop(s0, s1):\n",
    "    if len(s0) != len(s1):\n",
    "        raise ValueError()\n",
    "    count = 0\n",
    "    for i in range(len(s0)):\n",
    "        count += (s0[i] != s1[i])\n",
    "    return count"
   ]
  },
  {
   "cell_type": "markdown",
   "id": "23cf02da",
   "metadata": {},
   "source": [
    "Let's try to make this code faster using Cython."
   ]
  },
  {
   "cell_type": "code",
   "execution_count": 29,
   "id": "6ea1f069",
   "metadata": {},
   "outputs": [],
   "source": [
    "%%cython\n",
    "def hamming_sum_(char *s0, char *s1):\n",
    "    if len(s0) != len(s1):\n",
    "        raise ValueError()\n",
    "    return sum(c0 != c1 for (c0, c1) in zip(s0, s1))"
   ]
  },
  {
   "cell_type": "code",
   "execution_count": 31,
   "id": "0d4ff11f",
   "metadata": {},
   "outputs": [
    {
     "name": "stdout",
     "output_type": "stream",
     "text": [
      "470 ns ± 3.96 ns per loop (mean ± std. dev. of 7 runs, 1,000,000 loops each)\n"
     ]
    }
   ],
   "source": [
    "%%timeit\n",
    "hamming_sum_(b\"qwertyuio\", b\"asdfghjkl\")"
   ]
  },
  {
   "cell_type": "code",
   "execution_count": 32,
   "id": "0fa7fd85",
   "metadata": {},
   "outputs": [],
   "source": [
    "%%cython\n",
    "def hamming_sum(char *s0, char *s1):\n",
    "    if len(s0) != len(s1):\n",
    "        raise ValueError()\n",
    "        \n",
    "    cdef int count = 0\n",
    "    cdef int i\n",
    "    cdef int N = len(s0)\n",
    "    \n",
    "    for i in range(N):\n",
    "        count += (s0[i] != s1[i])\n",
    "        \n",
    "    return count"
   ]
  },
  {
   "cell_type": "code",
   "execution_count": 33,
   "id": "2d9dce45",
   "metadata": {},
   "outputs": [
    {
     "name": "stdout",
     "output_type": "stream",
     "text": [
      "46.2 ns ± 0.285 ns per loop (mean ± std. dev. of 7 runs, 10,000,000 loops each)\n"
     ]
    }
   ],
   "source": [
    "%%timeit\n",
    "hamming_sum(b\"qwertyuio\", b\"asdfghjkl\")"
   ]
  },
  {
   "cell_type": "markdown",
   "id": "11ea6be8",
   "metadata": {},
   "source": [
    "# Levenshtein Distance"
   ]
  },
  {
   "cell_type": "code",
   "execution_count": 34,
   "id": "c51741d8",
   "metadata": {},
   "outputs": [],
   "source": [
    "def levenshtein_distance(s, t):\n",
    "    return lev(s, len(s), t, len(t))\n",
    "\n",
    "def lev(s, len_s, t, len_t):\n",
    "    if len_s == 0 or len_t == 0:\n",
    "        return len_s or len_t\n",
    "    return min(lev(s, len_s-1, t, len_t  ) + 1,\n",
    "               lev(s, len_s  , t, len_t-1) + 1,\n",
    "               lev(s, len_s-1, t, len_t-1) + cost(s, len_s, t, len_t)) \n",
    "\n",
    "def cost(s, len_s, t, len_t):\n",
    "    return s[len_s-1] != t[len_t-1]"
   ]
  },
  {
   "cell_type": "code",
   "execution_count": 36,
   "id": "4e69aae2",
   "metadata": {},
   "outputs": [
    {
     "name": "stdout",
     "output_type": "stream",
     "text": [
      "326 ms ± 3.78 ms per loop (mean ± std. dev. of 7 runs, 1 loop each)\n"
     ]
    }
   ],
   "source": [
    "%%timeit\n",
    "levenshtein_distance(\"qwertyuio\", \"asdfghjkl\")"
   ]
  },
  {
   "cell_type": "code",
   "execution_count": 42,
   "id": "46cab0cb",
   "metadata": {},
   "outputs": [],
   "source": [
    "%%cython\n",
    "def levenshtein_distance_cy(char *s, char *t):\n",
    "    return lev(s, len(s), t, len(t))\n",
    "\n",
    "cdef lev(char *s, int len_s, char *t, int len_t):\n",
    "    if len_s == 0 or len_t == 0:\n",
    "        return len_s or len_t\n",
    "    return min(lev(s, len_s-1, t, len_t  ) + 1,\n",
    "               lev(s, len_s  , t, len_t-1) + 1,\n",
    "               lev(s, len_s-1, t, len_t-1) + cost(s, len_s, t, len_t)) \n",
    "\n",
    "cdef cost(char *s, int len_s, char *t, int len_t):\n",
    "    return s[len_s-1] != t[len_t-1]"
   ]
  },
  {
   "cell_type": "code",
   "execution_count": 43,
   "id": "08d0b2b4",
   "metadata": {},
   "outputs": [
    {
     "name": "stdout",
     "output_type": "stream",
     "text": [
      "24.5 ms ± 84.8 µs per loop (mean ± std. dev. of 7 runs, 10 loops each)\n"
     ]
    }
   ],
   "source": [
    "%%timeit\n",
    "levenshtein_distance_cy(b\"qwertyuio\", b\"asdfghjkl\")"
   ]
  }
 ],
 "metadata": {
  "kernelspec": {
   "display_name": "Python 3 (ipykernel)",
   "language": "python",
   "name": "python3"
  },
  "language_info": {
   "codemirror_mode": {
    "name": "ipython",
    "version": 3
   },
   "file_extension": ".py",
   "mimetype": "text/x-python",
   "name": "python",
   "nbconvert_exporter": "python",
   "pygments_lexer": "ipython3",
   "version": "3.9.13"
  }
 },
 "nbformat": 4,
 "nbformat_minor": 5
}
