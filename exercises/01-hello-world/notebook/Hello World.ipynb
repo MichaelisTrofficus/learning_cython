{
 "cells": [
  {
   "cell_type": "code",
   "execution_count": 2,
   "id": "e941624f",
   "metadata": {},
   "outputs": [],
   "source": [
    "%load_ext cython"
   ]
  },
  {
   "cell_type": "markdown",
   "id": "9ba46322",
   "metadata": {},
   "source": [
    "#### Pure Python"
   ]
  },
  {
   "cell_type": "code",
   "execution_count": 5,
   "id": "d21eb9cf",
   "metadata": {},
   "outputs": [],
   "source": [
    "def pysum(n):\n",
    "    i = cnt = 0\n",
    "    while i < n:\n",
    "        cnt += i\n",
    "        i += 1\n",
    "    return cnt"
   ]
  },
  {
   "cell_type": "code",
   "execution_count": 6,
   "id": "35600014",
   "metadata": {},
   "outputs": [],
   "source": [
    "%%cython\n",
    "def cysum(int n):\n",
    "    cdef int i, cnt\n",
    "    i = cnt = 0\n",
    "    while i < n:\n",
    "        cnt += i\n",
    "        i += 1\n",
    "    return cnt"
   ]
  },
  {
   "cell_type": "code",
   "execution_count": 7,
   "id": "7bb3883c",
   "metadata": {},
   "outputs": [
    {
     "name": "stdout",
     "output_type": "stream",
     "text": [
      "45.3 µs ± 1.47 µs per loop (mean ± std. dev. of 7 runs, 10,000 loops each)\n"
     ]
    }
   ],
   "source": [
    "%%timeit\n",
    "pysum(1000)"
   ]
  },
  {
   "cell_type": "code",
   "execution_count": 8,
   "id": "6189f6a5",
   "metadata": {},
   "outputs": [
    {
     "name": "stdout",
     "output_type": "stream",
     "text": [
      "31.2 ns ± 0.158 ns per loop (mean ± std. dev. of 7 runs, 10,000,000 loops each)\n"
     ]
    }
   ],
   "source": [
    "%%timeit\n",
    "cysum(1000)"
   ]
  }
 ],
 "metadata": {
  "kernelspec": {
   "display_name": "Python 3 (ipykernel)",
   "language": "python",
   "name": "python3"
  },
  "language_info": {
   "codemirror_mode": {
    "name": "ipython",
    "version": 3
   },
   "file_extension": ".py",
   "mimetype": "text/x-python",
   "name": "python",
   "nbconvert_exporter": "python",
   "pygments_lexer": "ipython3",
   "version": "3.9.13"
  }
 },
 "nbformat": 4,
 "nbformat_minor": 5
}
